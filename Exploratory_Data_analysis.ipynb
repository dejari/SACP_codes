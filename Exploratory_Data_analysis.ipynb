{
 "cells": [
  {
   "cell_type": "code",
   "execution_count": null,
   "id": "84b7a05e",
   "metadata": {},
   "outputs": [],
   "source": [
    "#importing libraries\n",
    "\n",
    "import pandas as pd\n",
    "import numpy as np\n",
    "import matplotlib.pyplot as plt\n",
    "import seaborn as sns\n",
    "sns.set()\n",
    "\n",
    "from scipy.stats import skew\n",
    "from scipy.stats import kurtosis\n",
    "import statistics\n",
    "\n",
    "import plotly.graph_objects as go"
   ]
  },
  {
   "cell_type": "code",
   "execution_count": null,
   "id": "c01d8b19",
   "metadata": {},
   "outputs": [],
   "source": [
    "# importing dataset\n",
    "\n",
    "dataset = pd.read_csv('feeds_SACP1_old_2021-09-09.csv')\n",
    "dataset_final = dataset[['Ambient Temp (degC)','Humidity (%)', 'Soil Moisture (%)', 'Capacitor Voltage (mV)', 'Soil Temperature (degC)', 'SACP Cell Current (mA)', 'Soil Voltage (V)', 'Cell Power (mW)']]\n",
    "\n",
    "# seperating dataset based on time day month and year\n",
    "dataset['created_at'] = pd.to_datetime(dataset['created_at'])\n",
    "dataset['year'] = dataset['created_at'].dt.year\n",
    "dataset['month'] = dataset['created_at'].dt.month\n",
    "dataset['day'] = dataset['created_at'].dt.day\n",
    "dataset"
   ]
  },
  {
   "cell_type": "code",
   "execution_count": null,
   "id": "a7ae3461",
   "metadata": {},
   "outputs": [],
   "source": [
    "# checking the correlation of data\n",
    "\n",
    "fig = plt.figure(figsize=(15,10))\n",
    "correlation_data = dataset_final.corr()\n",
    "sns.heatmap(correlation_data, cmap='magma', annot= True, cbar= True)"
   ]
  },
  {
   "cell_type": "code",
   "execution_count": null,
   "id": "b9519317",
   "metadata": {},
   "outputs": [],
   "source": [
    "fig = plt.figure(figsize=(18,15))\n",
    "\n",
    "plt.subplot(331)\n",
    "plt.title(\"Distribution of Ambient Temp (degC)\")\n",
    "sns.distplot(dataset_final['Ambient Temp (degC)'], hist = True, kde = True)\n",
    "\n",
    "plt.subplot(332)\n",
    "plt.title(\"Distribution of Humidity (%)\")\n",
    "sns.distplot(dataset_final['Humidity (%)'], hist = True, kde = True)\n",
    "\n",
    "plt.subplot(333)\n",
    "plt.title(\"Distribution of Soil Moisture (%)\")\n",
    "sns.distplot(dataset_final['Soil Moisture (%)'], hist = True, kde = True)\n",
    "\n",
    "plt.subplot(334)\n",
    "plt.title(\"Distribution of Capacitor Voltage (mV)\")\n",
    "sns.distplot(dataset_final['Capacitor Voltage (mV)'], hist = True, kde = True)\n",
    "\n",
    "plt.subplot(335)\n",
    "plt.title(\"Distribution of SACP Cell Current (mA)\")\n",
    "sns.distplot(dataset_final['SACP Cell Current (mA)'], hist = True, kde = True)\n",
    "\n",
    "plt.subplot(336)\n",
    "plt.title(\"Distribution of Soil Voltage (V)\")\n",
    "sns.distplot(dataset_final['Soil Voltage (V)'], hist = True, kde = True)\n",
    "\n",
    "plt.subplot(337)\n",
    "plt.title(\"Distribution of Cell Power (mW)\")\n",
    "sns.distplot(dataset_final['Cell Power (mW)'], hist = True, kde = True)\n",
    "\n",
    "# print(f\"mean of the Ambient Temp (degC) data: {statistics.mean(dataset_final['Ambient Temp (degC)'])}\")\n",
    "# print(f\"variance of the Ambient Temp (degC) data: {statistics.variance(dataset_final['Ambient Temp (degC)'])}\")\n",
    "# print(f\"Skewness of the Ambient Temp (degC) data: {skew(dataset_final['Ambient Temp (degC)'])}\")\n",
    "# print(f\"kurtosis of the Ambient Temp (degC) data: {kurtosis(dataset_final['Ambient Temp (degC)'])}\")\n",
    "# print(\"\\n\")\n",
    "# print(f\"mean of the Humidity (%) data: {statistics.mean(dataset_final['Humidity (%)'])}\")\n",
    "# print(f\"variance of the Humidity (%) data: {statistics.variance(dataset_final['Humidity (%)'])}\")\n",
    "# print(f\"Skewness of the Humidity (%) data: {skew(dataset_final['Humidity (%)'])}\")\n",
    "# print(f\"kurtosis of the Humidity (%) data: {kurtosis(dataset_final['Humidity (%)'])}\")\n",
    "# print(\"\\n\")      \n",
    "# print(f\"mean of the Soil Moisture (%) data: {statistics.mean(dataset_final['Soil Moisture (%)'])}\")\n",
    "# print(f\"variance of the Soil Moisture (%) data: {statistics.variance(dataset_final['Soil Moisture (%)'])}\")\n",
    "# print(f\"Skewness of the Soil Moisture (%) data: {skew(dataset_final['Soil Moisture (%)'])}\")\n",
    "# print(f\"kurtosis of the Soil Moisture (%) data: {kurtosis(dataset_final['Soil Moisture (%)'])}\")\n",
    "# print(\"\\n\")      \n",
    "# print(f\"mean of the Capacitor Voltage (mV) data: {statistics.mean(dataset_final['Capacitor Voltage (mV)'])}\")\n",
    "# print(f\"variance of the Capacitor Voltage (mV) data: {statistics.variance(dataset_final['Capacitor Voltage (mV)'])}\")\n",
    "# print(f\"Skewness of the Capacitor Voltage (mV) data: {skew(dataset_final['Capacitor Voltage (mV)'])}\")\n",
    "# print(f\"kurtosis of the Capacitor Voltage (mV) data: {kurtosis(dataset_final['Capacitor Voltage (mV)'])}\")\n",
    "# print(\"\\n\")\n",
    "# print(f\"mean of the SACP Cell Current (mA) data: {statistics.mean(dataset_final['SACP Cell Current (mA)'])}\")\n",
    "# print(f\"variance of the SACP Cell Current (mA) data: {statistics.variance(dataset_final['SACP Cell Current (mA)'])}\")\n",
    "# print(f\"Skewness of the SACP Cell Current (mA) data: {skew(dataset_final['SACP Cell Current (mA)'])}\")\n",
    "# print(f\"kurtosis of the SACP Cell Current (mA) data: {kurtosis(dataset_final['SACP Cell Current (mA)'])}\")\n",
    "# print(\"\\n\")\n",
    "# print(f\"mean of the Soil Voltage (V) data: {statistics.mean(dataset_final['Soil Voltage (V)'])}\")\n",
    "# print(f\"variance of the Soil Voltage (V) data: {statistics.variance(dataset_final['Soil Voltage (V)'])}\")\n",
    "# print(f\"Skewness of the Soil Voltage (V) data: {skew(dataset_final['Soil Voltage (V)'])}\")\n",
    "# print(f\"kurtosis of the Soil Voltage (V) data: {kurtosis(dataset_final['Soil Voltage (V)'])}\")\n",
    "# print(\"\\n\")      \n",
    "# print(f\"mean of the Cell Power (mW) data: {statistics.mean(dataset_final['Cell Power (mW)'])}\")\n",
    "# print(f\"variance of the Cell Power (mW) data: {statistics.variance(dataset_final['Cell Power (mW)'])}\")\n",
    "# print(f\"Skewness of the Cell Power (mW) data: {skew(dataset_final['Cell Power (mW)'])}\")\n",
    "# print(f\"kurtosis of the Cell Power (mW) data: {kurtosis(dataset_final['Cell Power (mW)'])}\")"
   ]
  },
  {
   "cell_type": "code",
   "execution_count": null,
   "id": "522c460a",
   "metadata": {},
   "outputs": [],
   "source": [
    "dataset_final.describe()"
   ]
  },
  {
   "cell_type": "code",
   "execution_count": null,
   "id": "17a6a43d",
   "metadata": {},
   "outputs": [],
   "source": [
    "dataset_2020 = dataset.loc[(dataset['month'] <= 12) & (dataset['year'] == 2020)]\n",
    "dataset_2021 = dataset.loc[(dataset['month'] <= 12) & (dataset['year'] == 2021)]\n",
    "dataset_june_2020 = dataset.loc[(dataset['month'] == 6) & (dataset['year'] == 2020)]\n",
    "dataset_july_2020 = dataset.loc[(dataset['month'] == 7) & (dataset['year'] == 2020)]\n",
    "dataset_aug_2020 = dataset.loc[(dataset['month'] == 8) & (dataset['year'] == 2020)]\n",
    "dataset_sept_2020 = dataset.loc[(dataset['month'] == 9) & (dataset['year'] == 2020)]\n",
    "dataset_oct_2020 = dataset.loc[(dataset['month'] == 10) & (dataset['year'] == 2020)]\n",
    "dataset_nov_2020 = dataset.loc[(dataset['month'] == 11) & (dataset['year'] == 2020)]\n",
    "dataset_dec_2020 = dataset.loc[(dataset['month'] == 12) & (dataset['year'] == 2020)]\n",
    "\n",
    "dataset_jan_2021 = dataset.loc[(dataset['month'] == 1) & (dataset['year'] == 2021)]\n",
    "dataset_feb_2021 = dataset.loc[(dataset['month'] == 2) & (dataset['year'] == 2021)]\n",
    "dataset_mar_2021 = dataset.loc[(dataset['month'] == 3) & (dataset['year'] == 2021)]\n",
    "dataset_apr_2021 = dataset.loc[(dataset['month'] == 4) & (dataset['year'] == 2021)]\n",
    "dataset_may_2021 = dataset.loc[(dataset['month'] == 5) & (dataset['year'] == 2021)]\n",
    "dataset_june_2021 = dataset.loc[(dataset['month'] == 6) & (dataset['year'] == 2021)]\n",
    "dataset_july_2021 = dataset.loc[(dataset['month'] == 7) & (dataset['year'] == 2021)]\n",
    "dataset_aug_2021 = dataset.loc[(dataset['month'] == 8) & (dataset['year'] == 2021)]"
   ]
  },
  {
   "cell_type": "code",
   "execution_count": null,
   "id": "a206ec90",
   "metadata": {},
   "outputs": [],
   "source": []
  },
  {
   "cell_type": "code",
   "execution_count": null,
   "id": "8cc7c5e9",
   "metadata": {},
   "outputs": [],
   "source": []
  },
  {
   "cell_type": "code",
   "execution_count": null,
   "id": "697e2f35",
   "metadata": {},
   "outputs": [],
   "source": [
    "fig = go.Figure([go.Scatter(x=dataset['created_at'], y=dataset['Capacitor Voltage (mV)'])])\n",
    "fig.show()\n",
    "\n",
    "fig = go.Figure([go.Scatter(x=dataset['created_at'], y=dataset['Soil Voltage (V)'], marker = {'color' : 'green'})])\n",
    "fig.show()\n",
    "\n",
    "fig = go.Figure([go.Scatter(x=dataset['created_at'], y=dataset['SACP Cell Current (mA)'])])\n",
    "fig.show()"
   ]
  },
  {
   "cell_type": "code",
   "execution_count": null,
   "id": "d8e72a4b",
   "metadata": {},
   "outputs": [],
   "source": [
    "fig = go.Figure([go.Scatter(x=dataset_2020['created_at'], y=dataset_2020['Capacitor Voltage (mV)'])])\n",
    "fig.show()\n",
    "\n",
    "fig = go.Figure([go.Scatter(x=dataset_2020['created_at'], y=dataset_2020['Soil Voltage (V)'], marker = {'color' : 'green'})])\n",
    "fig.show()\n",
    "\n",
    "fig = go.Figure([go.Scatter(x=dataset_2020['created_at'], y=dataset_2020['SACP Cell Current (mA)'])])\n",
    "fig.show()"
   ]
  },
  {
   "cell_type": "code",
   "execution_count": null,
   "id": "cc3eb440",
   "metadata": {},
   "outputs": [],
   "source": [
    "fig = go.Figure([go.Scatter(x=dataset_2021['created_at'], y=dataset_2021['Capacitor Voltage (mV)'])])\n",
    "fig.show()\n",
    "\n",
    "fig = go.Figure([go.Scatter(x=dataset_2021['created_at'], y=dataset_2021['Soil Voltage (V)'], marker = {'color' : 'green'})])\n",
    "fig.show()\n",
    "\n",
    "fig = go.Figure([go.Scatter(x=dataset_2021['created_at'], y=dataset_2021['SACP Cell Current (mA)'])])\n",
    "fig.show()"
   ]
  },
  {
   "cell_type": "code",
   "execution_count": null,
   "id": "5ebdb87e",
   "metadata": {},
   "outputs": [],
   "source": [
    "fig = go.Figure([go.Scatter(x=dataset_june_2020['created_at'], y=dataset_june_2020['Capacitor Voltage (mV)'])])\n",
    "fig.show()\n",
    "\n",
    "fig = go.Figure([go.Scatter(x=dataset_june_2020['created_at'], y=dataset_june_2020['Soil Voltage (V)'], marker = {'color' : 'green'})])\n",
    "fig.show()\n",
    "\n",
    "fig = go.Figure([go.Scatter(x=dataset_june_2020['created_at'], y=dataset_june_2020['SACP Cell Current (mA)'])])\n",
    "fig.show()"
   ]
  },
  {
   "cell_type": "code",
   "execution_count": null,
   "id": "96b3d300",
   "metadata": {},
   "outputs": [],
   "source": [
    "fig = go.Figure([go.Scatter(x=dataset_aug_2020['created_at'], y=dataset_aug_2020['Capacitor Voltage (mV)'])])\n",
    "fig.show()\n",
    "\n",
    "fig = go.Figure([go.Scatter(x=dataset_aug_2020['created_at'], y=dataset_aug_2020['Soil Voltage (V)'], marker = {'color' : 'green'})])\n",
    "fig.show()\n",
    "\n",
    "fig = go.Figure([go.Scatter(x=dataset_aug_2020['created_at'], y=dataset_aug_2020['SACP Cell Current (mA)'])])\n",
    "fig.show()"
   ]
  },
  {
   "cell_type": "code",
   "execution_count": null,
   "id": "cfe09a43",
   "metadata": {},
   "outputs": [],
   "source": [
    "fig = go.Figure([go.Scatter(x=dataset_sept_2020['created_at'], y=dataset_sept_2020['Capacitor Voltage (mV)'])])\n",
    "fig.show()\n",
    "\n",
    "fig = go.Figure([go.Scatter(x=dataset_sept_2020['created_at'], y=dataset_sept_2020['Soil Voltage (V)'], marker = {'color' : 'green'})])\n",
    "fig.show()\n",
    "\n",
    "fig = go.Figure([go.Scatter(x=dataset_sept_2020['created_at'], y=dataset_sept_2020['SACP Cell Current (mA)'])])\n",
    "fig.show()"
   ]
  },
  {
   "cell_type": "code",
   "execution_count": null,
   "id": "1cef6341",
   "metadata": {},
   "outputs": [],
   "source": [
    "fig = go.Figure([go.Scatter(x=dataset_oct_2020['created_at'], y=dataset_oct_2020['Capacitor Voltage (mV)'])])\n",
    "fig.show()\n",
    "\n",
    "fig = go.Figure([go.Scatter(x=dataset_oct_2020['created_at'], y=dataset_oct_2020['Soil Voltage (V)'], marker = {'color' : 'green'})])\n",
    "fig.show()\n",
    "\n",
    "fig = go.Figure([go.Scatter(x=dataset_oct_2020['created_at'], y=dataset_oct_2020['SACP Cell Current (mA)'])])\n",
    "fig.show()"
   ]
  },
  {
   "cell_type": "code",
   "execution_count": null,
   "id": "c98fefbc",
   "metadata": {},
   "outputs": [],
   "source": [
    "fig = go.Figure([go.Scatter(x=dataset_nov_2020['created_at'], y=dataset_nov_2020['Capacitor Voltage (mV)'])])\n",
    "fig.show()\n",
    "\n",
    "fig = go.Figure([go.Scatter(x=dataset_nov_2020['created_at'], y=dataset_nov_2020['Soil Voltage (V)'], marker = {'color' : 'green'})])\n",
    "fig.show()\n",
    "\n",
    "fig = go.Figure([go.Scatter(x=dataset_nov_2020['created_at'], y=dataset_nov_2020['SACP Cell Current (mA)'])])\n",
    "fig.show()"
   ]
  },
  {
   "cell_type": "code",
   "execution_count": null,
   "id": "6eb21702",
   "metadata": {},
   "outputs": [],
   "source": [
    "fig = go.Figure([go.Scatter(x=dataset_dec_2020['created_at'], y=dataset_dec_2020['Capacitor Voltage (mV)'])])\n",
    "fig.show()\n",
    "\n",
    "fig = go.Figure([go.Scatter(x=dataset_dec_2020['created_at'], y=dataset_dec_2020['Soil Voltage (V)'], marker = {'color' : 'green'})])\n",
    "fig.show()\n",
    "\n",
    "fig = go.Figure([go.Scatter(x=dataset_dec_2020['created_at'], y=dataset_dec_2020['SACP Cell Current (mA)'])])\n",
    "fig.show()"
   ]
  },
  {
   "cell_type": "code",
   "execution_count": null,
   "id": "537a6d34",
   "metadata": {},
   "outputs": [],
   "source": [
    "fig = go.Figure([go.Scatter(x=dataset_jan_2021['created_at'], y=dataset_jan_2021['Capacitor Voltage (mV)'])])\n",
    "fig.show()\n",
    "\n",
    "fig = go.Figure([go.Scatter(x=dataset_jan_2021['created_at'], y=dataset_jan_2021['Soil Voltage (V)'], marker = {'color' : 'green'})])\n",
    "fig.show()\n",
    "\n",
    "fig = go.Figure([go.Scatter(x=dataset_jan_2021['created_at'], y=dataset_jan_2021['SACP Cell Current (mA)'])])\n",
    "fig.show()"
   ]
  },
  {
   "cell_type": "code",
   "execution_count": null,
   "id": "3323279d",
   "metadata": {},
   "outputs": [],
   "source": [
    "fig = go.Figure([go.Scatter(x=dataset_jan_2021['created_at'], y=dataset_jan_2021['Capacitor Voltage (mV)'])])\n",
    "fig.show()\n",
    "\n",
    "fig = go.Figure([go.Scatter(x=dataset_jan_2021['created_at'], y=dataset_jan_2021['Soil Voltage (V)'], marker = {'color' : 'green'})])\n",
    "fig.show()\n",
    "\n",
    "fig = go.Figure([go.Scatter(x=dataset_jan_2021['created_at'], y=dataset_jan_2021['SACP Cell Current (mA)'])])\n",
    "fig.show()"
   ]
  },
  {
   "cell_type": "code",
   "execution_count": null,
   "id": "9490b13e",
   "metadata": {},
   "outputs": [],
   "source": [
    "fig = go.Figure([go.Scatter(x=dataset_feb_2021['created_at'], y=dataset_feb_2021['Capacitor Voltage (mV)'])])\n",
    "fig.show()\n",
    "\n",
    "fig = go.Figure([go.Scatter(x=dataset_feb_2021['created_at'], y=dataset_feb_2021['Soil Voltage (V)'], marker = {'color' : 'green'})])\n",
    "fig.show()\n",
    "\n",
    "fig = go.Figure([go.Scatter(x=dataset_feb_2021['created_at'], y=dataset_feb_2021['SACP Cell Current (mA)'])])\n",
    "fig.show()"
   ]
  },
  {
   "cell_type": "code",
   "execution_count": null,
   "id": "1974088f",
   "metadata": {},
   "outputs": [],
   "source": [
    "fig = go.Figure([go.Scatter(x=dataset_mar_2021['created_at'], y=dataset_mar_2021['Capacitor Voltage (mV)'])])\n",
    "fig.show()\n",
    "\n",
    "fig = go.Figure([go.Scatter(x=dataset_mar_2021['created_at'], y=dataset_mar_2021['Soil Voltage (V)'], marker = {'color' : 'green'})])\n",
    "fig.show()\n",
    "\n",
    "fig = go.Figure([go.Scatter(x=dataset_mar_2021['created_at'], y=dataset_mar_2021['SACP Cell Current (mA)'])])\n",
    "fig.show()"
   ]
  },
  {
   "cell_type": "code",
   "execution_count": null,
   "id": "26ba3c0f",
   "metadata": {},
   "outputs": [],
   "source": [
    "fig = go.Figure([go.Scatter(x=dataset_apr_2021['created_at'], y=dataset_apr_2021['Capacitor Voltage (mV)'])])\n",
    "fig.show()\n",
    "\n",
    "fig = go.Figure([go.Scatter(x=dataset_apr_2021['created_at'], y=dataset_apr_2021['Soil Voltage (V)'], marker = {'color' : 'green'})])\n",
    "fig.show()\n",
    "\n",
    "fig = go.Figure([go.Scatter(x=dataset_apr_2021['created_at'], y=dataset_apr_2021['SACP Cell Current (mA)'])])\n",
    "fig.show()"
   ]
  },
  {
   "cell_type": "code",
   "execution_count": null,
   "id": "2367946a",
   "metadata": {},
   "outputs": [],
   "source": [
    "fig = go.Figure([go.Scatter(x=dataset_may_2021['created_at'], y=dataset_may_2021['Capacitor Voltage (mV)'])])\n",
    "fig.show()\n",
    "\n",
    "fig = go.Figure([go.Scatter(x=dataset_may_2021['created_at'], y=dataset_may_2021['Soil Voltage (V)'], marker = {'color' : 'green'})])\n",
    "fig.show()\n",
    "\n",
    "fig = go.Figure([go.Scatter(x=dataset_may_2021['created_at'], y=dataset_may_2021['SACP Cell Current (mA)'])])\n",
    "fig.show()"
   ]
  },
  {
   "cell_type": "code",
   "execution_count": null,
   "id": "b1d3a27c",
   "metadata": {},
   "outputs": [],
   "source": [
    "fig = go.Figure([go.Scatter(x=dataset_june_2021['created_at'], y=dataset_june_2021['Capacitor Voltage (mV)'])])\n",
    "fig.show()\n",
    "\n",
    "fig = go.Figure([go.Scatter(x=dataset_june_2021['created_at'], y=dataset_june_2021['Soil Voltage (V)'], marker = {'color' : 'green'})])\n",
    "fig.show()\n",
    "\n",
    "fig = go.Figure([go.Scatter(x=dataset_june_2021['created_at'], y=dataset_june_2021['SACP Cell Current (mA)'])])\n",
    "fig.show()"
   ]
  },
  {
   "cell_type": "code",
   "execution_count": null,
   "id": "53537d89",
   "metadata": {},
   "outputs": [],
   "source": [
    "fig = go.Figure([go.Scatter(x=dataset_july_2021['created_at'], y=dataset_july_2021['Capacitor Voltage (mV)'])])\n",
    "fig.show()\n",
    "\n",
    "fig = go.Figure([go.Scatter(x=dataset_july_2021['created_at'], y=dataset_july_2021['Soil Voltage (V)'], marker = {'color' : 'green'})])\n",
    "fig.show()\n",
    "\n",
    "fig = go.Figure([go.Scatter(x=dataset_july_2021['created_at'], y=dataset_july_2021['SACP Cell Current (mA)'])])\n",
    "fig.show()"
   ]
  },
  {
   "cell_type": "code",
   "execution_count": null,
   "id": "026da507",
   "metadata": {},
   "outputs": [],
   "source": [
    "fig = go.Figure([go.Scatter(x=dataset['created_at'], y=dataset['Ambient Temp (degC)'], marker = {'color' : 'red'})])\n",
    "fig.show()\n",
    "\n",
    "fig = go.Figure([go.Scatter(x=dataset['created_at'], y=dataset['Humidity (%)'], marker = {'color' : 'green'})])\n",
    "fig.show()\n",
    "\n",
    "fig = go.Figure([go.Scatter(x=dataset['created_at'], y=dataset['Humidity (%)'], marker = {'color' : 'green'})])\n",
    "fig.show()"
   ]
  },
  {
   "cell_type": "code",
   "execution_count": null,
   "id": "09a8c7d4",
   "metadata": {},
   "outputs": [],
   "source": [
    "fig = go.Figure([go.Scatter(x=dataset['created_at'], y=dataset['Soil Moisture (%)'], marker = {'color' : 'black'})])\n",
    "fig.show()\n",
    "\n",
    "fig = go.Figure([go.Scatter(x=dataset['created_at'], y=dataset['SACP Cell Current (mA)'], marker = {'color' : 'purple'})])\n",
    "fig.show()\n",
    "\n",
    "fig = go.Figure([go.Scatter(x=dataset['created_at'], y=dataset['SACP Cell Current (mA)'], marker = {'color' : 'purple'})])\n",
    "fig.show()"
   ]
  },
  {
   "cell_type": "code",
   "execution_count": null,
   "id": "ecb371ef",
   "metadata": {},
   "outputs": [],
   "source": [
    "fig = plt.figure(figsize=(15,18))\n",
    "\n",
    "plt.subplot(211)\n",
    "plt.scatter(x = dataset['Ambient Temp (degC)'], y = dataset['Humidity (%)'], c = 'r')\n",
    "plt.xlabel('Ambient Temp')\n",
    "plt.ylabel('Humidity')\n",
    "plt.title('Temp vs humidity')\n",
    "\n",
    "plt.subplot(212)\n",
    "plt.scatter(x = dataset['Ambient Temp (degC)'], y = dataset['Soil Moisture (%)'], c = 'b')\n",
    "plt.xlabel('Ambient Temp')\n",
    "plt.ylabel('Soil moisture')\n",
    "plt.title('Temp vs Soil moisture')"
   ]
  },
  {
   "cell_type": "code",
   "execution_count": null,
   "id": "38e32145",
   "metadata": {},
   "outputs": [],
   "source": [
    "fig = plt.figure(figsize=(15,18))\n",
    "\n",
    "plt.subplot(211)\n",
    "plt.scatter(x = dataset['Ambient Temp (degC)'], y = dataset['Soil Voltage (V)'], c = 'g')\n",
    "plt.xlabel('Ambient Temp')\n",
    "plt.ylabel('Soil Voltage')\n",
    "plt.title('Temp vs Soil Voltage')\n",
    "\n",
    "plt.subplot(212)\n",
    "plt.scatter(x = dataset['Ambient Temp (degC)'], y = dataset['Soil Temperature (degC)'], c = 'b')\n",
    "plt.xlabel('Ambient Temp')\n",
    "plt.ylabel('Soil Temperature')\n",
    "plt.title('Temp vs Soil Temperature')"
   ]
  },
  {
   "cell_type": "code",
   "execution_count": null,
   "id": "66422202",
   "metadata": {},
   "outputs": [],
   "source": []
  },
  {
   "cell_type": "code",
   "execution_count": null,
   "id": "34db8a30",
   "metadata": {},
   "outputs": [],
   "source": []
  }
 ],
 "metadata": {
  "kernelspec": {
   "display_name": "Python 3",
   "language": "python",
   "name": "python3"
  },
  "language_info": {
   "codemirror_mode": {
    "name": "ipython",
    "version": 3
   },
   "file_extension": ".py",
   "mimetype": "text/x-python",
   "name": "python",
   "nbconvert_exporter": "python",
   "pygments_lexer": "ipython3",
   "version": "3.8.8"
  }
 },
 "nbformat": 4,
 "nbformat_minor": 5
}
