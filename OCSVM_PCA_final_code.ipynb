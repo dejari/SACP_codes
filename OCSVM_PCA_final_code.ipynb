{
 "cells": [
  {
   "cell_type": "code",
   "execution_count": 2,
   "metadata": {},
   "outputs": [],
   "source": [
    "import pandas as pd\n",
    "import numpy as np\n",
    "from sklearn.svm import OneClassSVM\n",
    "import matplotlib.pyplot as plt\n",
    "import seaborn as sns\n",
    "sns.set()\n",
    "\n",
    "from sklearn.metrics import accuracy_score, confusion_matrix\n",
    "from mlxtend.plotting import plot_confusion_matrix\n",
    "from sklearn.metrics import f1_score\n",
    "from sklearn.metrics import precision_score\n",
    "from sklearn.metrics import recall_score\n",
    "from sklearn.metrics import classification_report\n",
    "from sklearn.preprocessing import StandardScaler\n",
    "from sklearn.preprocessing import MinMaxScaler\n",
    "from sklearn.decomposition import PCA\n",
    "from mlxtend.evaluate import confusion_matrix"
   ]
  },
  {
   "cell_type": "code",
   "execution_count": 3,
   "metadata": {},
   "outputs": [
    {
     "name": "stderr",
     "output_type": "stream",
     "text": [
      "C:\\Users\\DEEP\\anaconda3\\lib\\site-packages\\pandas\\core\\indexing.py:670: SettingWithCopyWarning: \n",
      "A value is trying to be set on a copy of a slice from a DataFrame\n",
      "\n",
      "See the caveats in the documentation: https://pandas.pydata.org/pandas-docs/stable/user_guide/indexing.html#returning-a-view-versus-a-copy\n",
      "  iloc._setitem_with_indexer(indexer, value)\n"
     ]
    }
   ],
   "source": [
    "dataset = pd.read_csv(\"final_dataset.csv\")\n",
    "dataset['labels'].loc[dataset['labels'] == 0] = -1 "
   ]
  },
  {
   "cell_type": "code",
   "execution_count": 4,
   "metadata": {},
   "outputs": [
    {
     "data": {
      "text/html": [
       "<div>\n",
       "<style scoped>\n",
       "    .dataframe tbody tr th:only-of-type {\n",
       "        vertical-align: middle;\n",
       "    }\n",
       "\n",
       "    .dataframe tbody tr th {\n",
       "        vertical-align: top;\n",
       "    }\n",
       "\n",
       "    .dataframe thead th {\n",
       "        text-align: right;\n",
       "    }\n",
       "</style>\n",
       "<table border=\"1\" class=\"dataframe\">\n",
       "  <thead>\n",
       "    <tr style=\"text-align: right;\">\n",
       "      <th></th>\n",
       "      <th>created_at</th>\n",
       "      <th>entry_id</th>\n",
       "      <th>Ambient Temp (degC)</th>\n",
       "      <th>Humidity (%)</th>\n",
       "      <th>Soil Moisture (%)</th>\n",
       "      <th>Capacitor Voltage (mV)</th>\n",
       "      <th>Soil Temperature (degC)</th>\n",
       "      <th>SACP Cell Current (mA)</th>\n",
       "      <th>Soil Voltage (V)</th>\n",
       "      <th>Cell Power (mW)</th>\n",
       "      <th>year</th>\n",
       "      <th>month</th>\n",
       "      <th>day</th>\n",
       "      <th>labels</th>\n",
       "    </tr>\n",
       "  </thead>\n",
       "  <tbody>\n",
       "    <tr>\n",
       "      <th>0</th>\n",
       "      <td>2020-06-18 23:29:49</td>\n",
       "      <td>1</td>\n",
       "      <td>20.6875</td>\n",
       "      <td>47.49635</td>\n",
       "      <td>99</td>\n",
       "      <td>2907.74194</td>\n",
       "      <td>22.5000</td>\n",
       "      <td>25.9</td>\n",
       "      <td>0.2946</td>\n",
       "      <td>8</td>\n",
       "      <td>2020</td>\n",
       "      <td>6</td>\n",
       "      <td>18</td>\n",
       "      <td>1</td>\n",
       "    </tr>\n",
       "    <tr>\n",
       "      <th>1</th>\n",
       "      <td>2020-06-18 23:30:58</td>\n",
       "      <td>2</td>\n",
       "      <td>20.6250</td>\n",
       "      <td>47.52944</td>\n",
       "      <td>99</td>\n",
       "      <td>2909.03223</td>\n",
       "      <td>22.5000</td>\n",
       "      <td>26.0</td>\n",
       "      <td>0.2946</td>\n",
       "      <td>8</td>\n",
       "      <td>2020</td>\n",
       "      <td>6</td>\n",
       "      <td>18</td>\n",
       "      <td>1</td>\n",
       "    </tr>\n",
       "    <tr>\n",
       "      <th>2</th>\n",
       "      <td>2020-06-18 23:32:06</td>\n",
       "      <td>3</td>\n",
       "      <td>20.6250</td>\n",
       "      <td>47.55913</td>\n",
       "      <td>99</td>\n",
       "      <td>2909.03223</td>\n",
       "      <td>22.5000</td>\n",
       "      <td>26.0</td>\n",
       "      <td>0.2946</td>\n",
       "      <td>8</td>\n",
       "      <td>2020</td>\n",
       "      <td>6</td>\n",
       "      <td>18</td>\n",
       "      <td>1</td>\n",
       "    </tr>\n",
       "    <tr>\n",
       "      <th>3</th>\n",
       "      <td>2020-06-18 23:33:15</td>\n",
       "      <td>4</td>\n",
       "      <td>20.5625</td>\n",
       "      <td>47.59531</td>\n",
       "      <td>99</td>\n",
       "      <td>2912.90332</td>\n",
       "      <td>22.5000</td>\n",
       "      <td>26.0</td>\n",
       "      <td>0.2946</td>\n",
       "      <td>8</td>\n",
       "      <td>2020</td>\n",
       "      <td>6</td>\n",
       "      <td>18</td>\n",
       "      <td>1</td>\n",
       "    </tr>\n",
       "    <tr>\n",
       "      <th>4</th>\n",
       "      <td>2020-06-18 23:34:23</td>\n",
       "      <td>5</td>\n",
       "      <td>20.4375</td>\n",
       "      <td>47.60892</td>\n",
       "      <td>99</td>\n",
       "      <td>2911.61279</td>\n",
       "      <td>22.4375</td>\n",
       "      <td>26.0</td>\n",
       "      <td>0.2946</td>\n",
       "      <td>8</td>\n",
       "      <td>2020</td>\n",
       "      <td>6</td>\n",
       "      <td>18</td>\n",
       "      <td>1</td>\n",
       "    </tr>\n",
       "    <tr>\n",
       "      <th>...</th>\n",
       "      <td>...</td>\n",
       "      <td>...</td>\n",
       "      <td>...</td>\n",
       "      <td>...</td>\n",
       "      <td>...</td>\n",
       "      <td>...</td>\n",
       "      <td>...</td>\n",
       "      <td>...</td>\n",
       "      <td>...</td>\n",
       "      <td>...</td>\n",
       "      <td>...</td>\n",
       "      <td>...</td>\n",
       "      <td>...</td>\n",
       "      <td>...</td>\n",
       "    </tr>\n",
       "    <tr>\n",
       "      <th>375198</th>\n",
       "      <td>2021-07-26 19:11:20</td>\n",
       "      <td>380357</td>\n",
       "      <td>26.1250</td>\n",
       "      <td>88.10663</td>\n",
       "      <td>100</td>\n",
       "      <td>2925.48389</td>\n",
       "      <td>24.9375</td>\n",
       "      <td>16.4</td>\n",
       "      <td>1.6400</td>\n",
       "      <td>0</td>\n",
       "      <td>2021</td>\n",
       "      <td>7</td>\n",
       "      <td>26</td>\n",
       "      <td>-1</td>\n",
       "    </tr>\n",
       "    <tr>\n",
       "      <th>375199</th>\n",
       "      <td>2021-07-26 19:12:30</td>\n",
       "      <td>380358</td>\n",
       "      <td>26.0625</td>\n",
       "      <td>88.35374</td>\n",
       "      <td>100</td>\n",
       "      <td>2874.19360</td>\n",
       "      <td>24.9375</td>\n",
       "      <td>16.4</td>\n",
       "      <td>1.6400</td>\n",
       "      <td>0</td>\n",
       "      <td>2021</td>\n",
       "      <td>7</td>\n",
       "      <td>26</td>\n",
       "      <td>-1</td>\n",
       "    </tr>\n",
       "    <tr>\n",
       "      <th>375200</th>\n",
       "      <td>2021-07-26 19:13:40</td>\n",
       "      <td>380359</td>\n",
       "      <td>26.0625</td>\n",
       "      <td>88.63950</td>\n",
       "      <td>100</td>\n",
       "      <td>2889.67749</td>\n",
       "      <td>24.9375</td>\n",
       "      <td>16.4</td>\n",
       "      <td>1.6400</td>\n",
       "      <td>0</td>\n",
       "      <td>2021</td>\n",
       "      <td>7</td>\n",
       "      <td>26</td>\n",
       "      <td>-1</td>\n",
       "    </tr>\n",
       "    <tr>\n",
       "      <th>375201</th>\n",
       "      <td>2021-07-26 19:14:49</td>\n",
       "      <td>380360</td>\n",
       "      <td>25.9375</td>\n",
       "      <td>88.89094</td>\n",
       "      <td>100</td>\n",
       "      <td>3067.41943</td>\n",
       "      <td>24.8750</td>\n",
       "      <td>16.3</td>\n",
       "      <td>1.6300</td>\n",
       "      <td>0</td>\n",
       "      <td>2021</td>\n",
       "      <td>7</td>\n",
       "      <td>26</td>\n",
       "      <td>-1</td>\n",
       "    </tr>\n",
       "    <tr>\n",
       "      <th>375202</th>\n",
       "      <td>2021-08-05 13:32:39</td>\n",
       "      <td>385630</td>\n",
       "      <td>23.7500</td>\n",
       "      <td>61.04981</td>\n",
       "      <td>87</td>\n",
       "      <td>2120.00000</td>\n",
       "      <td>22.2500</td>\n",
       "      <td>16.1</td>\n",
       "      <td>1.6100</td>\n",
       "      <td>0</td>\n",
       "      <td>2021</td>\n",
       "      <td>8</td>\n",
       "      <td>5</td>\n",
       "      <td>-1</td>\n",
       "    </tr>\n",
       "  </tbody>\n",
       "</table>\n",
       "<p>375203 rows × 14 columns</p>\n",
       "</div>"
      ],
      "text/plain": [
       "                 created_at  entry_id  Ambient Temp (degC)  Humidity (%)  \\\n",
       "0       2020-06-18 23:29:49         1              20.6875      47.49635   \n",
       "1       2020-06-18 23:30:58         2              20.6250      47.52944   \n",
       "2       2020-06-18 23:32:06         3              20.6250      47.55913   \n",
       "3       2020-06-18 23:33:15         4              20.5625      47.59531   \n",
       "4       2020-06-18 23:34:23         5              20.4375      47.60892   \n",
       "...                     ...       ...                  ...           ...   \n",
       "375198  2021-07-26 19:11:20    380357              26.1250      88.10663   \n",
       "375199  2021-07-26 19:12:30    380358              26.0625      88.35374   \n",
       "375200  2021-07-26 19:13:40    380359              26.0625      88.63950   \n",
       "375201  2021-07-26 19:14:49    380360              25.9375      88.89094   \n",
       "375202  2021-08-05 13:32:39    385630              23.7500      61.04981   \n",
       "\n",
       "        Soil Moisture (%)  Capacitor Voltage (mV)  Soil Temperature (degC)  \\\n",
       "0                      99              2907.74194                  22.5000   \n",
       "1                      99              2909.03223                  22.5000   \n",
       "2                      99              2909.03223                  22.5000   \n",
       "3                      99              2912.90332                  22.5000   \n",
       "4                      99              2911.61279                  22.4375   \n",
       "...                   ...                     ...                      ...   \n",
       "375198                100              2925.48389                  24.9375   \n",
       "375199                100              2874.19360                  24.9375   \n",
       "375200                100              2889.67749                  24.9375   \n",
       "375201                100              3067.41943                  24.8750   \n",
       "375202                 87              2120.00000                  22.2500   \n",
       "\n",
       "        SACP Cell Current (mA)  Soil Voltage (V)  Cell Power (mW)  year  \\\n",
       "0                         25.9            0.2946                8  2020   \n",
       "1                         26.0            0.2946                8  2020   \n",
       "2                         26.0            0.2946                8  2020   \n",
       "3                         26.0            0.2946                8  2020   \n",
       "4                         26.0            0.2946                8  2020   \n",
       "...                        ...               ...              ...   ...   \n",
       "375198                    16.4            1.6400                0  2021   \n",
       "375199                    16.4            1.6400                0  2021   \n",
       "375200                    16.4            1.6400                0  2021   \n",
       "375201                    16.3            1.6300                0  2021   \n",
       "375202                    16.1            1.6100                0  2021   \n",
       "\n",
       "        month  day  labels  \n",
       "0           6   18       1  \n",
       "1           6   18       1  \n",
       "2           6   18       1  \n",
       "3           6   18       1  \n",
       "4           6   18       1  \n",
       "...       ...  ...     ...  \n",
       "375198      7   26      -1  \n",
       "375199      7   26      -1  \n",
       "375200      7   26      -1  \n",
       "375201      7   26      -1  \n",
       "375202      8    5      -1  \n",
       "\n",
       "[375203 rows x 14 columns]"
      ]
     },
     "execution_count": 4,
     "metadata": {},
     "output_type": "execute_result"
    }
   ],
   "source": [
    "dataset"
   ]
  },
  {
   "cell_type": "code",
   "execution_count": 5,
   "metadata": {},
   "outputs": [
    {
     "data": {
      "text/plain": [
       "0.49882196789995786"
      ]
     },
     "execution_count": 5,
     "metadata": {},
     "output_type": "execute_result"
    }
   ],
   "source": [
    "(375202 - dataset.labels.value_counts()[1])/375202"
   ]
  },
  {
   "cell_type": "code",
   "execution_count": 6,
   "metadata": {},
   "outputs": [
    {
     "data": {
      "text/html": [
       "<div>\n",
       "<style scoped>\n",
       "    .dataframe tbody tr th:only-of-type {\n",
       "        vertical-align: middle;\n",
       "    }\n",
       "\n",
       "    .dataframe tbody tr th {\n",
       "        vertical-align: top;\n",
       "    }\n",
       "\n",
       "    .dataframe thead th {\n",
       "        text-align: right;\n",
       "    }\n",
       "</style>\n",
       "<table border=\"1\" class=\"dataframe\">\n",
       "  <thead>\n",
       "    <tr style=\"text-align: right;\">\n",
       "      <th></th>\n",
       "      <th>entry_id</th>\n",
       "      <th>Ambient Temp (degC)</th>\n",
       "      <th>Humidity (%)</th>\n",
       "      <th>Soil Moisture (%)</th>\n",
       "      <th>Capacitor Voltage (mV)</th>\n",
       "      <th>Soil Temperature (degC)</th>\n",
       "      <th>SACP Cell Current (mA)</th>\n",
       "      <th>Soil Voltage (V)</th>\n",
       "      <th>Cell Power (mW)</th>\n",
       "      <th>year</th>\n",
       "      <th>month</th>\n",
       "      <th>day</th>\n",
       "      <th>labels</th>\n",
       "    </tr>\n",
       "  </thead>\n",
       "  <tbody>\n",
       "    <tr>\n",
       "      <th>count</th>\n",
       "      <td>375203.000000</td>\n",
       "      <td>375203.000000</td>\n",
       "      <td>375203.000000</td>\n",
       "      <td>375203.000000</td>\n",
       "      <td>375203.000000</td>\n",
       "      <td>375203.000000</td>\n",
       "      <td>375203.000000</td>\n",
       "      <td>375203.000000</td>\n",
       "      <td>375203.000000</td>\n",
       "      <td>375203.000000</td>\n",
       "      <td>375203.000000</td>\n",
       "      <td>375203.000000</td>\n",
       "      <td>375203.000000</td>\n",
       "    </tr>\n",
       "    <tr>\n",
       "      <th>mean</th>\n",
       "      <td>187954.605379</td>\n",
       "      <td>8.081033</td>\n",
       "      <td>70.621098</td>\n",
       "      <td>83.555259</td>\n",
       "      <td>2153.046284</td>\n",
       "      <td>8.518032</td>\n",
       "      <td>16.207222</td>\n",
       "      <td>0.131424</td>\n",
       "      <td>1.999030</td>\n",
       "      <td>2020.426982</td>\n",
       "      <td>6.616466</td>\n",
       "      <td>15.901592</td>\n",
       "      <td>0.002353</td>\n",
       "    </tr>\n",
       "    <tr>\n",
       "      <th>std</th>\n",
       "      <td>108727.439759</td>\n",
       "      <td>10.824139</td>\n",
       "      <td>9.059883</td>\n",
       "      <td>31.173823</td>\n",
       "      <td>1109.555632</td>\n",
       "      <td>10.223571</td>\n",
       "      <td>8.605845</td>\n",
       "      <td>0.234788</td>\n",
       "      <td>2.599934</td>\n",
       "      <td>0.494640</td>\n",
       "      <td>3.609852</td>\n",
       "      <td>8.717034</td>\n",
       "      <td>0.999999</td>\n",
       "    </tr>\n",
       "    <tr>\n",
       "      <th>min</th>\n",
       "      <td>1.000000</td>\n",
       "      <td>-16.812500</td>\n",
       "      <td>13.198580</td>\n",
       "      <td>0.000000</td>\n",
       "      <td>-297.741940</td>\n",
       "      <td>-11.312500</td>\n",
       "      <td>-2.300000</td>\n",
       "      <td>-0.000220</td>\n",
       "      <td>0.000000</td>\n",
       "      <td>2020.000000</td>\n",
       "      <td>1.000000</td>\n",
       "      <td>1.000000</td>\n",
       "      <td>-1.000000</td>\n",
       "    </tr>\n",
       "    <tr>\n",
       "      <th>25%</th>\n",
       "      <td>93801.500000</td>\n",
       "      <td>-0.687500</td>\n",
       "      <td>65.889270</td>\n",
       "      <td>84.000000</td>\n",
       "      <td>1524.516110</td>\n",
       "      <td>-0.312500</td>\n",
       "      <td>12.200000</td>\n",
       "      <td>0.001890</td>\n",
       "      <td>0.000000</td>\n",
       "      <td>2020.000000</td>\n",
       "      <td>3.000000</td>\n",
       "      <td>9.000000</td>\n",
       "      <td>-1.000000</td>\n",
       "    </tr>\n",
       "    <tr>\n",
       "      <th>50%</th>\n",
       "      <td>187603.000000</td>\n",
       "      <td>6.750000</td>\n",
       "      <td>72.104680</td>\n",
       "      <td>100.000000</td>\n",
       "      <td>2702.903320</td>\n",
       "      <td>7.062500</td>\n",
       "      <td>17.900000</td>\n",
       "      <td>0.030620</td>\n",
       "      <td>0.000000</td>\n",
       "      <td>2020.000000</td>\n",
       "      <td>7.000000</td>\n",
       "      <td>16.000000</td>\n",
       "      <td>1.000000</td>\n",
       "    </tr>\n",
       "    <tr>\n",
       "      <th>75%</th>\n",
       "      <td>282023.500000</td>\n",
       "      <td>17.562500</td>\n",
       "      <td>77.293620</td>\n",
       "      <td>100.000000</td>\n",
       "      <td>2999.032230</td>\n",
       "      <td>18.125000</td>\n",
       "      <td>22.600000</td>\n",
       "      <td>0.218020</td>\n",
       "      <td>3.000000</td>\n",
       "      <td>2021.000000</td>\n",
       "      <td>10.000000</td>\n",
       "      <td>23.000000</td>\n",
       "      <td>1.000000</td>\n",
       "    </tr>\n",
       "    <tr>\n",
       "      <th>max</th>\n",
       "      <td>385630.000000</td>\n",
       "      <td>49.812500</td>\n",
       "      <td>102.060900</td>\n",
       "      <td>100.000000</td>\n",
       "      <td>3281.612790</td>\n",
       "      <td>42.125000</td>\n",
       "      <td>36.000000</td>\n",
       "      <td>1.650000</td>\n",
       "      <td>8.000000</td>\n",
       "      <td>2021.000000</td>\n",
       "      <td>12.000000</td>\n",
       "      <td>31.000000</td>\n",
       "      <td>1.000000</td>\n",
       "    </tr>\n",
       "  </tbody>\n",
       "</table>\n",
       "</div>"
      ],
      "text/plain": [
       "            entry_id  Ambient Temp (degC)   Humidity (%)  Soil Moisture (%)  \\\n",
       "count  375203.000000        375203.000000  375203.000000      375203.000000   \n",
       "mean   187954.605379             8.081033      70.621098          83.555259   \n",
       "std    108727.439759            10.824139       9.059883          31.173823   \n",
       "min         1.000000           -16.812500      13.198580           0.000000   \n",
       "25%     93801.500000            -0.687500      65.889270          84.000000   \n",
       "50%    187603.000000             6.750000      72.104680         100.000000   \n",
       "75%    282023.500000            17.562500      77.293620         100.000000   \n",
       "max    385630.000000            49.812500     102.060900         100.000000   \n",
       "\n",
       "       Capacitor Voltage (mV)  Soil Temperature (degC)  \\\n",
       "count           375203.000000            375203.000000   \n",
       "mean              2153.046284                 8.518032   \n",
       "std               1109.555632                10.223571   \n",
       "min               -297.741940               -11.312500   \n",
       "25%               1524.516110                -0.312500   \n",
       "50%               2702.903320                 7.062500   \n",
       "75%               2999.032230                18.125000   \n",
       "max               3281.612790                42.125000   \n",
       "\n",
       "       SACP Cell Current (mA)  Soil Voltage (V)  Cell Power (mW)  \\\n",
       "count           375203.000000     375203.000000    375203.000000   \n",
       "mean                16.207222          0.131424         1.999030   \n",
       "std                  8.605845          0.234788         2.599934   \n",
       "min                 -2.300000         -0.000220         0.000000   \n",
       "25%                 12.200000          0.001890         0.000000   \n",
       "50%                 17.900000          0.030620         0.000000   \n",
       "75%                 22.600000          0.218020         3.000000   \n",
       "max                 36.000000          1.650000         8.000000   \n",
       "\n",
       "                year          month            day         labels  \n",
       "count  375203.000000  375203.000000  375203.000000  375203.000000  \n",
       "mean     2020.426982       6.616466      15.901592       0.002353  \n",
       "std         0.494640       3.609852       8.717034       0.999999  \n",
       "min      2020.000000       1.000000       1.000000      -1.000000  \n",
       "25%      2020.000000       3.000000       9.000000      -1.000000  \n",
       "50%      2020.000000       7.000000      16.000000       1.000000  \n",
       "75%      2021.000000      10.000000      23.000000       1.000000  \n",
       "max      2021.000000      12.000000      31.000000       1.000000  "
      ]
     },
     "execution_count": 6,
     "metadata": {},
     "output_type": "execute_result"
    }
   ],
   "source": [
    "dataset.describe()"
   ]
  },
  {
   "cell_type": "code",
   "execution_count": 7,
   "metadata": {},
   "outputs": [],
   "source": [
    "df1 = dataset.iloc[:, [2,3,5,6,7,8]]\n",
    "pca = PCA()\n",
    "X_train = pca.fit_transform(df1)\n",
    "true_labels = np.array(dataset.iloc[:, 13])"
   ]
  },
  {
   "cell_type": "code",
   "execution_count": 8,
   "metadata": {},
   "outputs": [],
   "source": [
    "acc = []\n",
    "f1 = []\n",
    "prec = []\n",
    "rec = []\n",
    "\n",
    "model = OneClassSVM(nu = 1e-08, gamma = 0.00000121)\n",
    "model.fit(X_train)\n",
    "ocsvm_labels = model.predict(X_train)\n",
    "acc.append(accuracy_score(true_labels, ocsvm_labels))\n",
    "f1.append(f1_score(true_labels, ocsvm_labels))\n",
    "prec.append(precision_score(true_labels, ocsvm_labels))\n",
    "rec.append(recall_score(true_labels, ocsvm_labels))"
   ]
  },
  {
   "cell_type": "code",
   "execution_count": 9,
   "metadata": {},
   "outputs": [
    {
     "data": {
      "image/png": "[encoded data removed]",
      "text/plain": [
       "<Figure size 432x288 with 1 Axes>"
      ]
     },
     "metadata": {},
     "output_type": "display_data"
    }
   ],
   "source": [
    "cm = confusion_matrix(y_target=true_labels, y_predicted=ocsvm_labels)\n",
    "fig, ax = plot_confusion_matrix(conf_mat=cm)\n",
    "plt.show()"
   ]
  },
  {
   "cell_type": "code",
   "execution_count": 11,
   "metadata": {},
   "outputs": [
    {
     "data": {
      "image/png": "[encoded data removed]",
      "text/plain": [
       "<Figure size 432x288 with 2 Axes>"
      ]
     },
     "metadata": {},
     "output_type": "display_data"
    }
   ],
   "source": [
    "import seaborn as sns\n",
    "import matplotlib.pyplot as plt     \n",
    "\n",
    "ax= plt.subplot()\n",
    "sns.heatmap(cm, annot=True, fmt='g', ax=ax);  #annot=True to annotate cells, ftm='g' to disable scientific notation\n",
    "\n",
    "# labels, title and ticks\n",
    "ax.set_xlabel('Predicted labels');ax.set_ylabel('True labels'); \n",
    "ax.set_title('Confusion Matrix'); \n",
    "ax.xaxis.set_ticklabels(['Anomalous', 'Non-Anomalous']); ax.yaxis.set_ticklabels(['Anomalous', 'Non-Anomalous']);"
   ]
  },
  {
   "cell_type": "code",
   "execution_count": 27,
   "metadata": {},
   "outputs": [
    {
     "data": {
      "image/png": "[encoded data removed]",
      "text/plain": [
       "<Figure size 1080x720 with 2 Axes>"
      ]
     },
     "metadata": {},
     "output_type": "display_data"
    }
   ],
   "source": [
    "nu_value = [1e-05, 2e-05, 3e-05, 4e-05, 5e-05, 6e-05, 7e-05, 8e-05, 9e-05]\n",
    "gamma_val = [4.0/(X_train.var()), 2.0/(X_train.var()), 1.0/(X_train.var()), 1.0/(2*X_train.var()), 1.0/(3*X_train.var()), 1.0/(4*X_train.var()), 1.0/(5*X_train.var()), 1.0/(6*X_train.var())]\n",
    "\n",
    "acc = []\n",
    "f1 = []\n",
    "prec = []\n",
    "rec = []\n",
    "for i in nu_value:\n",
    "    for j in gamma_val:\n",
    "        model = OneClassSVM(nu = i, gamma = j)\n",
    "        model.fit(X_train)\n",
    "        ocsvm_labels = model.predict(X_train)\n",
    "        acc.append(accuracy_score(true_labels, ocsvm_labels))\n",
    "        f1.append(f1_score(true_labels, ocsvm_labels))\n",
    "        prec.append(precision_score(true_labels, ocsvm_labels))\n",
    "        rec.append(recall_score(true_labels, ocsvm_labels))\n",
    "\n",
    "acc = np.array(acc)\n",
    "f1 = np.array(f1)\n",
    "acc = acc.reshape(len(nu_value), len(gamma_val))\n",
    "f1 = f1.reshape(len(nu_value), len(gamma_val))\n",
    "df = pd.DataFrame(acc, index = nu_value, columns = gamma_val)\n",
    "\n",
    "plt.figure(figsize=(15,10))\n",
    "sns.heatmap(df, annot = True, linewidth = 0.5, cmap = \"YlGnBu\")\n",
    "plt.xlabel(\"GAMMA\")\n",
    "plt.ylabel(\"Nu\")\n",
    "plt.title(\"GAMMA AND NU VARAIATION IN OCSVM\")\n",
    "\n",
    "\n",
    "# fix for mpl bug that cuts off top/bottom of seaborn viz\n",
    "b, t = plt.ylim() # discover the values for bottom and top\n",
    "b += 0.5 # Add 0.5 to the bottom\n",
    "t -= 0.5 # Subtract 0.5 from the top\n",
    "plt.ylim(b, t) # update the ylim(bottom, top) values\n",
    "plt.show() # ta-da!"
   ]
  },
  {
   "cell_type": "code",
   "execution_count": null,
   "metadata": {},
   "outputs": [],
   "source": []
  },
  {
   "cell_type": "code",
   "execution_count": 28,
   "metadata": {},
   "outputs": [
    {
     "data": {
      "text/plain": [
       "(9, 8)"
      ]
     },
     "execution_count": 28,
     "metadata": {},
     "output_type": "execute_result"
    }
   ],
   "source": [
    "acc.shape"
   ]
  },
  {
   "cell_type": "code",
   "execution_count": 29,
   "metadata": {},
   "outputs": [],
   "source": [
    "acc = acc.reshape(72,)"
   ]
  },
  {
   "cell_type": "code",
   "execution_count": 30,
   "metadata": {},
   "outputs": [
    {
     "data": {
      "text/plain": [
       "0.5013695919275699"
      ]
     },
     "execution_count": 30,
     "metadata": {},
     "output_type": "execute_result"
    }
   ],
   "source": [
    "np.mean(acc)"
   ]
  },
  {
   "cell_type": "code",
   "execution_count": 40,
   "metadata": {},
   "outputs": [
    {
     "data": {
      "text/plain": [
       "Text(0, 0.5, 'Accuracy')"
      ]
     },
     "execution_count": 40,
     "metadata": {},
     "output_type": "execute_result"
    },
    {
     "data": {
      "image/png": "[encoded data removed]",
      "text/plain": [
       "<Figure size 576x432 with 1 Axes>"
      ]
     },
     "metadata": {},
     "output_type": "display_data"
    }
   ],
   "source": [
    "plt.figure(figsize=(8,6))\n",
    "final = [0.464, 0.534, 0.534, 0.5094, 0.5014, 0.499, 0.499]\n",
    "x = [10**-9, 10**-8, 10**-7, 10**-6, 10**-5, 10**-4, 10**-3]\n",
    "plt.plot(np.log(x), final)\n",
    "plt.title(\"Accuracy v/s log(NU) plot\")\n",
    "plt.xlabel(\"Log(NU)\")\n",
    "plt.ylabel(\"Accuracy\")"
   ]
  },
  {
   "cell_type": "code",
   "execution_count": 34,
   "metadata": {},
   "outputs": [
    {
     "data": {
      "text/plain": [
       "1e-09"
      ]
     },
     "execution_count": 34,
     "metadata": {},
     "output_type": "execute_result"
    }
   ],
   "source": [
    "10**-9"
   ]
  },
  {
   "cell_type": "code",
   "execution_count": 1,
   "metadata": {},
   "outputs": [
    {
     "ename": "NameError",
     "evalue": "name 'OneClassSVM' is not defined",
     "output_type": "error",
     "traceback": [
      "\u001b[1;31m---------------------------------------------------------------------------\u001b[0m",
      "\u001b[1;31mNameError\u001b[0m                                 Traceback (most recent call last)",
      "\u001b[1;32m<ipython-input-1-f205f38d26a5>\u001b[0m in \u001b[0;36m<module>\u001b[1;34m\u001b[0m\n\u001b[1;32m----> 1\u001b[1;33m \u001b[0mmodel\u001b[0m \u001b[1;33m=\u001b[0m \u001b[0mOneClassSVM\u001b[0m\u001b[1;33m(\u001b[0m\u001b[0mnu\u001b[0m \u001b[1;33m=\u001b[0m \u001b[1;36m1e-08\u001b[0m\u001b[1;33m,\u001b[0m \u001b[0mgamma\u001b[0m \u001b[1;33m=\u001b[0m \u001b[1;36m0.00000121\u001b[0m\u001b[1;33m)\u001b[0m\u001b[1;33m\u001b[0m\u001b[1;33m\u001b[0m\u001b[0m\n\u001b[0m\u001b[0;32m      2\u001b[0m \u001b[0mmodel\u001b[0m\u001b[1;33m.\u001b[0m\u001b[0mfit\u001b[0m\u001b[1;33m(\u001b[0m\u001b[0mX_train\u001b[0m\u001b[1;33m)\u001b[0m\u001b[1;33m\u001b[0m\u001b[1;33m\u001b[0m\u001b[0m\n\u001b[0;32m      3\u001b[0m \u001b[0mocsvm_labels\u001b[0m \u001b[1;33m=\u001b[0m \u001b[0mmodel\u001b[0m\u001b[1;33m.\u001b[0m\u001b[0mpredict\u001b[0m\u001b[1;33m(\u001b[0m\u001b[0mX_train\u001b[0m\u001b[1;33m)\u001b[0m\u001b[1;33m\u001b[0m\u001b[1;33m\u001b[0m\u001b[0m\n\u001b[0;32m      4\u001b[0m \u001b[0macc\u001b[0m\u001b[1;33m.\u001b[0m\u001b[0mappend\u001b[0m\u001b[1;33m(\u001b[0m\u001b[0maccuracy_score\u001b[0m\u001b[1;33m(\u001b[0m\u001b[0mtrue_labels\u001b[0m\u001b[1;33m,\u001b[0m \u001b[0mocsvm_labels\u001b[0m\u001b[1;33m)\u001b[0m\u001b[1;33m)\u001b[0m\u001b[1;33m\u001b[0m\u001b[1;33m\u001b[0m\u001b[0m\n\u001b[0;32m      5\u001b[0m \u001b[0mf1\u001b[0m\u001b[1;33m.\u001b[0m\u001b[0mappend\u001b[0m\u001b[1;33m(\u001b[0m\u001b[0mf1_score\u001b[0m\u001b[1;33m(\u001b[0m\u001b[0mtrue_labels\u001b[0m\u001b[1;33m,\u001b[0m \u001b[0mocsvm_labels\u001b[0m\u001b[1;33m)\u001b[0m\u001b[1;33m)\u001b[0m\u001b[1;33m\u001b[0m\u001b[1;33m\u001b[0m\u001b[0m\n",
      "\u001b[1;31mNameError\u001b[0m: name 'OneClassSVM' is not defined"
     ]
    }
   ],
   "source": []
  },
  {
   "cell_type": "code",
   "execution_count": null,
   "metadata": {},
   "outputs": [],
   "source": []
  }
 ],
 "metadata": {
  "kernelspec": {
   "display_name": "Python 3",
   "language": "python",
   "name": "python3"
  },
  "language_info": {
   "codemirror_mode": {
    "name": "ipython",
    "version": 3
   },
   "file_extension": ".py",
   "mimetype": "text/x-python",
   "name": "python",
   "nbconvert_exporter": "python",
   "pygments_lexer": "ipython3",
   "version": "3.8.5"
  }
 },
 "nbformat": 4,
 "nbformat_minor": 4
}
